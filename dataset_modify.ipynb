{
 "cells": [
  {
   "cell_type": "code",
   "execution_count": null,
   "metadata": {},
   "outputs": [],
   "source": [
    "import os\n",
    "import cv2\n",
    "from ultralytics import YOLO\n",
    "import matplotlib.pyplot as plt\n",
    "import numpy as np\n",
    "import albumentations as A\n",
    "from tqdm import tqdm"
   ]
  },
  {
   "cell_type": "markdown",
   "metadata": {},
   "source": [
    "## Разметка с тяжелой YOLO"
   ]
  },
  {
   "cell_type": "code",
   "execution_count": null,
   "metadata": {},
   "outputs": [],
   "source": [
    "def annotate_images(images_dir, output_dir, classes_to_label, model_weights_path, conf_threshold=0.25):\n",
    "\n",
    "    img_out_dir = os.path.join(output_dir, \"imgages\")\n",
    "    labels_out_dir = os.path.join(output_dir, \"labels\")\n",
    "    os.makedirs(img_out_dir, exist_ok=True)\n",
    "    os.makedirs(labels_out_dir, exist_ok=True)\n",
    "\n",
    "    model = YOLO(model_weights_path)\n",
    "\n",
    "    model_classes = model.model.names  # id: name\n",
    "\n",
    "    # Define the classes for labeling\n",
    "    if all(isinstance(c, str) for c in classes_to_label):\n",
    "        class_ids = [i for i, name in model_classes.items() if name in classes_to_label]\n",
    "    else:\n",
    "        class_ids = classes_to_label\n",
    "\n",
    "    # Read data\n",
    "    for fname in os.listdir(images_dir):\n",
    "        if not fname.lower().endswith(('.jpg', '.jpeg', '.png', '.bmp')):\n",
    "            continue\n",
    "        img_path = os.path.join(images_dir, fname)\n",
    "        img = cv2.imread(img_path)\n",
    "        img_vis = img.copy()\n",
    "        if img is None:\n",
    "            continue\n",
    "\n",
    "        results = model(img, conf=conf_threshold)[0]\n",
    "\n",
    "        # YOLO label \n",
    "        label_lines = []\n",
    "        for box in results.boxes:\n",
    "            cls_id = int(box.cls[0])\n",
    "            if cls_id not in class_ids:\n",
    "                continue\n",
    "\n",
    "            x1, y1, x2, y2 = box.xyxy[0].cpu().numpy()\n",
    "            h, w = img.shape[:2]\n",
    "            x_center = ((x1 + x2) / 2) / w\n",
    "            y_center = ((y1 + y2) / 2) / h\n",
    "            width = (x2 - x1) / w\n",
    "            height = (y2 - y1) / h\n",
    "            label_lines.append(f\"{cls_id} {x_center:.6f} {y_center:.6f} {width:.6f} {height:.6f}\")\n",
    "\n",
    "            x1, y1, x2, y2 = map(int, [x1, y1, x2, y2])\n",
    "            color = (0, 255, 0)\n",
    "\n",
    "            cv2.rectangle(img_vis, (x1, y1), (x2, y2), color, 2)\n",
    "            # Check classes\n",
    "            label = model_classes[cls_id] if isinstance(model_classes, dict) else str(cls_id)\n",
    "            cv2.putText(img_vis, label, (x1, y1 - 10), cv2.FONT_HERSHEY_SIMPLEX, 0.7, color, 2)\n",
    "\n",
    "        cv2.imshow(\"Detected\", img_vis)\n",
    "        cv2.waitKey(0)        \n",
    "\n",
    "        # Save img\n",
    "        cv2.imwrite(os.path.join(img_out_dir, fname), img)\n",
    "\n",
    "        # Save label\n",
    "        label_fname = os.path.splitext(fname)[0] + \".txt\"\n",
    "        with open(os.path.join(labels_out_dir, label_fname), \"w\") as f:\n",
    "            f.write(\"\\n\".join(label_lines))\n"
   ]
  },
  {
   "cell_type": "code",
   "execution_count": null,
   "metadata": {},
   "outputs": [],
   "source": [
    "annotate_images(\n",
    "    images_dir=\"C:\\\\Users\\\\Alex\\\\Desktop\\\\dataset\",\n",
    "    output_dir=\"data_labeled\",\n",
    "    classes_to_label=[40, 41, 42, 46, 47, 48, 49, 50, 51,52, 53, 54, 55, 56],  # Nost of related to food\n",
    "    model_weights_path=\"yolo11x.pt\"\n",
    ")"
   ]
  },
  {
   "cell_type": "markdown",
   "metadata": {},
   "source": [
    "## Заменяем классы по COCO на новые наши"
   ]
  },
  {
   "cell_type": "code",
   "execution_count": null,
   "metadata": {},
   "outputs": [],
   "source": [
    "def remap_yolo_classes_in_labels(labels_dir, class_id_map):\n",
    "    \"\"\"\n",
    "    labels_dir: path to dataset/labels with .txt\n",
    "    class_id_map: dict, key - old id, value — new id ({45:0, 54:1, 78:2})\n",
    "    \"\"\"\n",
    "    for fname in os.listdir(labels_dir):\n",
    "        if not fname.endswith('.txt'):\n",
    "            continue\n",
    "        file_path = os.path.join(labels_dir, fname)\n",
    "        with open(file_path, 'r') as f:\n",
    "            lines = f.readlines()\n",
    "        new_lines = []\n",
    "        changed = False\n",
    "        for line in lines:\n",
    "            parts = line.strip().split()\n",
    "            if not parts:\n",
    "                continue\n",
    "            try:\n",
    "                class_id = int(parts[0])\n",
    "            except ValueError:\n",
    "                new_lines.append(line)\n",
    "                continue\n",
    "            if class_id in class_id_map:\n",
    "                parts[0] = str(class_id_map[class_id])\n",
    "                changed = True\n",
    "            new_lines.append(' '.join(parts) + '\\n')\n",
    "        if changed:\n",
    "            with open(file_path, 'w') as f:\n",
    "                f.writelines(new_lines)"
   ]
  },
  {
   "cell_type": "code",
   "execution_count": null,
   "metadata": {},
   "outputs": [],
   "source": [
    "remap_yolo_classes_in_labels(\"C:\\\\Users\\\\Alex\\\\Desktop\\\\dataset_food\\\\labels\", {46:0})"
   ]
  },
  {
   "cell_type": "code",
   "execution_count": null,
   "metadata": {},
   "outputs": [
    {
     "name": "stderr",
     "output_type": "stream",
     "text": [
      "C:\\Users\\Alex\\AppData\\Local\\Temp\\ipykernel_37524\\4131152067.py:19: UserWarning: Argument(s) 'max_holes, max_height, max_width' are not valid for transform CoarseDropout\n",
      "  A.CoarseDropout(max_holes=4, max_height=0.05, max_width=0.05, p=0.6)\n"
     ]
    },
    {
     "name": "stdout",
     "output_type": "stream",
     "text": [
      "Найдено 160 изображений.\n"
     ]
    },
    {
     "name": "stderr",
     "output_type": "stream",
     "text": [
      " 79%|███████▉  | 127/160 [00:10<00:02, 13.29it/s]"
     ]
    },
    {
     "name": "stdout",
     "output_type": "stream",
     "text": [
      "Все bboxes отброшены для frame_0073_jpg.rf.01cc1688da10effe3813274cf9bb551f.jpg_aug0\n"
     ]
    },
    {
     "name": "stderr",
     "output_type": "stream",
     "text": [
      "100%|██████████| 160/160 [00:12<00:00, 12.63it/s]"
     ]
    },
    {
     "name": "stdout",
     "output_type": "stream",
     "text": [
      "Аугментация завершена! Результаты в: C:\\Users\\Alex\\Desktop\\food_det_dataset\\train_aug2\n"
     ]
    },
    {
     "name": "stderr",
     "output_type": "stream",
     "text": [
      "\n"
     ]
    }
   ],
   "source": [
    "input_images_dir = \"C:\\\\Users\\\\Alex\\\\Desktop\\\\food_det_dataset\\\\train\\\\images\"\n",
    "input_labels_dir = \"C:\\\\Users\\\\Alex\\\\Desktop\\\\food_det_dataset\\\\train\\\\labels\"\n",
    "output_dir = \"C:\\\\Users\\\\Alex\\\\Desktop\\\\food_det_dataset\\\\train_aug2\"\n",
    "os.makedirs(f\"{output_dir}/images\", exist_ok=True)\n",
    "os.makedirs(f\"{output_dir}/labels\", exist_ok=True)\n",
    "\n",
    "# Аугментации\n",
    "augmentation = A.Compose([\n",
    "    A.VerticalFlips(p=0.5), \n",
    "    A.MotionBlur(blur_limit=(3, 7), p=0.4),\n",
    "    A.RandomBrightnessContrast(p=0.4),\n",
    "    A.CoarseDropout(max_holes=4, max_height=0.05, max_width=0.05, p=0.6)\n",
    "], bbox_params=A.BboxParams(format='yolo', min_visibility=0.3))\n",
    "\n",
    "def read_yolo_label(label_path, img_width, img_height):\n",
    "    if not os.path.exists(label_path):\n",
    "        return []\n",
    "    with open(label_path, 'r') as f:\n",
    "        lines = f.readlines()\n",
    "    bboxes = []\n",
    "    for line in lines:\n",
    "        parts = list(map(float, line.strip().split()))\n",
    "        if len(parts) == 5:\n",
    "            class_id, x_center, y_center, width, height = parts\n",
    "            \n",
    "            bboxes.append([x_center, y_center, width, height, class_id])\n",
    "    return bboxes\n",
    "\n",
    "def write_yolo_label(label_path, bboxes):\n",
    "    with open(label_path, 'w') as f:\n",
    "        for bbox in bboxes:\n",
    "            if len(bbox) == 5:  # [x,y,w,h,class_id]\n",
    "                class_id, x_center, y_center, width, height = bbox[4], bbox[0], bbox[1], bbox[2], bbox[3]\n",
    "                f.write(f\"{int(class_id)} {x_center:.6f} {y_center:.6f} {width:.6f} {height:.6f}\\n\")\n",
    "\n",
    "\n",
    "image_files = [f for f in os.listdir(input_images_dir) if f.endswith(('.jpg', '.png'))]\n",
    "print(f\"Найдено {len(image_files)} изображений.\")\n",
    "\n",
    "for image_file in tqdm(image_files):\n",
    "    image_path = os.path.join(input_images_dir, image_file)\n",
    "    label_path = os.path.join(input_labels_dir, os.path.splitext(image_file)[0] + '.txt')\n",
    "    \n",
    "    image = cv2.imread(image_path)\n",
    "    if image is None:\n",
    "        print(f\"Ошибка чтения: {image_path}\")\n",
    "        continue\n",
    "    \n",
    "    img_height, img_width = image.shape[:2]\n",
    "    original_bboxes = read_yolo_label(label_path, img_width, img_height)\n",
    "    \n",
    "    if not original_bboxes:\n",
    "        print(f\"Нет bboxes для {image_file}\")\n",
    "        continue\n",
    "    \n",
    "    # Augment 3 times\n",
    "    for aug_idx in range(3):\n",
    "        try:\n",
    "            bboxes_for_aug = [bbox[:4] for bbox in original_bboxes]\n",
    "            class_ids = [bbox[4] for bbox in original_bboxes]\n",
    "            \n",
    "            augmented = augmentation(image=image, bboxes=bboxes_for_aug)\n",
    "            aug_image = augmented['image']\n",
    "            aug_bboxes = augmented['bboxes']\n",
    "            \n",
    "            if not aug_bboxes:\n",
    "                print(f\"Все bboxes отброшены для {image_file}_aug{aug_idx}\")\n",
    "                continue\n",
    "            \n",
    "            #  class id list\n",
    "            final_bboxes = []\n",
    "            for i, bbox in enumerate(aug_bboxes):\n",
    "                if i < len(class_ids):  \n",
    "                    final_bboxes.append([*bbox, class_ids[i]])\n",
    "            \n",
    "            aug_image_name = f\"{os.path.splitext(image_file)[0]}_aug{aug_idx}.jpg\"\n",
    "            aug_image_path = os.path.join(output_dir, \"images\", aug_image_name)\n",
    "            cv2.imwrite(aug_image_path, aug_image)\n",
    "            \n",
    "            aug_label_name = f\"{os.path.splitext(image_file)[0]}_aug{aug_idx}.txt\"\n",
    "            aug_label_path = os.path.join(output_dir, \"labels\", aug_label_name)\n",
    "            write_yolo_label(aug_label_path, final_bboxes)\n",
    "            \n",
    "        except Exception as e:\n",
    "            print(f\"Ошибка при аугментации {image_file}: {e}\")\n",
    "\n",
    "print(\"Аугментация завершена! Результаты в:\", output_dir)"
   ]
  }
 ],
 "metadata": {
  "kernelspec": {
   "display_name": "fd_env",
   "language": "python",
   "name": "python3"
  },
  "language_info": {
   "codemirror_mode": {
    "name": "ipython",
    "version": 3
   },
   "file_extension": ".py",
   "mimetype": "text/x-python",
   "name": "python",
   "nbconvert_exporter": "python",
   "pygments_lexer": "ipython3",
   "version": "3.9.23"
  }
 },
 "nbformat": 4,
 "nbformat_minor": 2
}
